{
 "cells": [
  {
   "cell_type": "code",
   "execution_count": 249,
   "metadata": {},
   "outputs": [],
   "source": [
    "import pandas as pd\n",
    "import numpy as np"
   ]
  },
  {
   "cell_type": "markdown",
   "metadata": {},
   "source": [
    "# Data Processing"
   ]
  },
  {
   "cell_type": "code",
   "execution_count": 243,
   "metadata": {},
   "outputs": [],
   "source": [
    "df_hospital_org = pd.read_csv('/Users/jessie/Desktop/summer_project/Definitive_Healthcare%3A_USA_Hospital_Beds.csv', usecols = ['COUNTY_NAME', 'STATE_NAME', 'NUM_LICENSED_BEDS', 'NUM_STAFFED_BEDS', 'AVG_VENTILATOR_USAGE'])\n",
    "df_social_mobility_org = pd.read_csv('/Users/jessie/Desktop/summer_project/social_mobility_data(up_to_date)/County.csv', usecols = ['CTNAME', 'STFIPS', 'date', 'Social distancing index', 'New cases/1000 people', 'Population density', '% people older than 60', 'COVID death rate'])\n",
    "df_COVID19_org = pd.read_csv('/Users/jessie/Documents/GitHub/COVID-19/csse_covid_19_data/csse_covid_19_time_series/time_series_covid19_confirmed_US.csv', usecols = ['Admin2', 'Lat', 'Long_', 'Province_State', '6/17/20', '6/18/20', '6/19/20', '6/20/20', '6/21/20', '6/22/20', '6/23/20', '6/24/20', '6/25/20', '6/26/20'])\n",
    "df_state_fips = pd.read_csv('/Users/jessie/Desktop/summer_project/social_mobility_data(up_to_date)/fips-states.csv', usecols = ['state_name', 'fips'])"
   ]
  },
  {
   "cell_type": "code",
   "execution_count": 194,
   "metadata": {},
   "outputs": [
    {
     "name": "stdout",
     "output_type": "stream",
     "text": [
      "(6622, 5)\n"
     ]
    },
    {
     "data": {
      "text/html": [
       "<div>\n",
       "<style scoped>\n",
       "    .dataframe tbody tr th:only-of-type {\n",
       "        vertical-align: middle;\n",
       "    }\n",
       "\n",
       "    .dataframe tbody tr th {\n",
       "        vertical-align: top;\n",
       "    }\n",
       "\n",
       "    .dataframe thead th {\n",
       "        text-align: right;\n",
       "    }\n",
       "</style>\n",
       "<table border=\"1\" class=\"dataframe\">\n",
       "  <thead>\n",
       "    <tr style=\"text-align: right;\">\n",
       "      <th></th>\n",
       "      <th>COUNTY_NAME</th>\n",
       "      <th>STATE_NAME</th>\n",
       "      <th>NUM_LICENSED_BEDS</th>\n",
       "      <th>NUM_STAFFED_BEDS</th>\n",
       "      <th>AVG_VENTILATOR_USAGE</th>\n",
       "    </tr>\n",
       "  </thead>\n",
       "  <tbody>\n",
       "    <tr>\n",
       "      <th>0</th>\n",
       "      <td>Maricopa</td>\n",
       "      <td>Arizona</td>\n",
       "      <td>62.0</td>\n",
       "      <td>62.0</td>\n",
       "      <td>0.0</td>\n",
       "    </tr>\n",
       "    <tr>\n",
       "      <th>1</th>\n",
       "      <td>Pima</td>\n",
       "      <td>Arizona</td>\n",
       "      <td>295.0</td>\n",
       "      <td>295.0</td>\n",
       "      <td>2.0</td>\n",
       "    </tr>\n",
       "    <tr>\n",
       "      <th>2</th>\n",
       "      <td>Fresno</td>\n",
       "      <td>California</td>\n",
       "      <td>54.0</td>\n",
       "      <td>54.0</td>\n",
       "      <td>2.0</td>\n",
       "    </tr>\n",
       "    <tr>\n",
       "      <th>3</th>\n",
       "      <td>New Haven</td>\n",
       "      <td>Connecticut</td>\n",
       "      <td>216.0</td>\n",
       "      <td>216.0</td>\n",
       "      <td>2.0</td>\n",
       "    </tr>\n",
       "    <tr>\n",
       "      <th>4</th>\n",
       "      <td>New Castle</td>\n",
       "      <td>Delaware</td>\n",
       "      <td>62.0</td>\n",
       "      <td>62.0</td>\n",
       "      <td>1.0</td>\n",
       "    </tr>\n",
       "  </tbody>\n",
       "</table>\n",
       "</div>"
      ],
      "text/plain": [
       "  COUNTY_NAME   STATE_NAME  NUM_LICENSED_BEDS  NUM_STAFFED_BEDS  \\\n",
       "0    Maricopa      Arizona               62.0              62.0   \n",
       "1        Pima      Arizona              295.0             295.0   \n",
       "2      Fresno   California               54.0              54.0   \n",
       "3   New Haven  Connecticut              216.0             216.0   \n",
       "4  New Castle     Delaware               62.0              62.0   \n",
       "\n",
       "   AVG_VENTILATOR_USAGE  \n",
       "0                   0.0  \n",
       "1                   2.0  \n",
       "2                   2.0  \n",
       "3                   2.0  \n",
       "4                   1.0  "
      ]
     },
     "execution_count": 194,
     "metadata": {},
     "output_type": "execute_result"
    }
   ],
   "source": [
    "print(df_hospital_org.shape)\n",
    "df_hospital_org.head()"
   ]
  },
  {
   "cell_type": "code",
   "execution_count": 195,
   "metadata": {},
   "outputs": [
    {
     "name": "stdout",
     "output_type": "stream",
     "text": [
      "(559276, 8)\n"
     ]
    },
    {
     "data": {
      "text/html": [
       "<div>\n",
       "<style scoped>\n",
       "    .dataframe tbody tr th:only-of-type {\n",
       "        vertical-align: middle;\n",
       "    }\n",
       "\n",
       "    .dataframe tbody tr th {\n",
       "        vertical-align: top;\n",
       "    }\n",
       "\n",
       "    .dataframe thead th {\n",
       "        text-align: right;\n",
       "    }\n",
       "</style>\n",
       "<table border=\"1\" class=\"dataframe\">\n",
       "  <thead>\n",
       "    <tr style=\"text-align: right;\">\n",
       "      <th></th>\n",
       "      <th>CTNAME</th>\n",
       "      <th>STFIPS</th>\n",
       "      <th>Social distancing index</th>\n",
       "      <th>date</th>\n",
       "      <th>% people older than 60</th>\n",
       "      <th>Population density</th>\n",
       "      <th>COVID death rate</th>\n",
       "      <th>New cases/1000 people</th>\n",
       "    </tr>\n",
       "  </thead>\n",
       "  <tbody>\n",
       "    <tr>\n",
       "      <th>0</th>\n",
       "      <td>Autauga County</td>\n",
       "      <td>1</td>\n",
       "      <td>54</td>\n",
       "      <td>01/01/2020</td>\n",
       "      <td>19</td>\n",
       "      <td>91</td>\n",
       "      <td>0.0</td>\n",
       "      <td>0.0</td>\n",
       "    </tr>\n",
       "    <tr>\n",
       "      <th>1</th>\n",
       "      <td>Autauga County</td>\n",
       "      <td>1</td>\n",
       "      <td>25</td>\n",
       "      <td>01/02/2020</td>\n",
       "      <td>19</td>\n",
       "      <td>91</td>\n",
       "      <td>0.0</td>\n",
       "      <td>0.0</td>\n",
       "    </tr>\n",
       "    <tr>\n",
       "      <th>2</th>\n",
       "      <td>Autauga County</td>\n",
       "      <td>1</td>\n",
       "      <td>15</td>\n",
       "      <td>01/03/2020</td>\n",
       "      <td>19</td>\n",
       "      <td>91</td>\n",
       "      <td>0.0</td>\n",
       "      <td>0.0</td>\n",
       "    </tr>\n",
       "    <tr>\n",
       "      <th>3</th>\n",
       "      <td>Autauga County</td>\n",
       "      <td>1</td>\n",
       "      <td>33</td>\n",
       "      <td>01/04/2020</td>\n",
       "      <td>19</td>\n",
       "      <td>91</td>\n",
       "      <td>0.0</td>\n",
       "      <td>0.0</td>\n",
       "    </tr>\n",
       "    <tr>\n",
       "      <th>4</th>\n",
       "      <td>Autauga County</td>\n",
       "      <td>1</td>\n",
       "      <td>40</td>\n",
       "      <td>01/05/2020</td>\n",
       "      <td>19</td>\n",
       "      <td>91</td>\n",
       "      <td>0.0</td>\n",
       "      <td>0.0</td>\n",
       "    </tr>\n",
       "  </tbody>\n",
       "</table>\n",
       "</div>"
      ],
      "text/plain": [
       "           CTNAME  STFIPS  Social distancing index        date  \\\n",
       "0  Autauga County       1                       54  01/01/2020   \n",
       "1  Autauga County       1                       25  01/02/2020   \n",
       "2  Autauga County       1                       15  01/03/2020   \n",
       "3  Autauga County       1                       33  01/04/2020   \n",
       "4  Autauga County       1                       40  01/05/2020   \n",
       "\n",
       "   % people older than 60  Population density  COVID death rate  \\\n",
       "0                      19                  91               0.0   \n",
       "1                      19                  91               0.0   \n",
       "2                      19                  91               0.0   \n",
       "3                      19                  91               0.0   \n",
       "4                      19                  91               0.0   \n",
       "\n",
       "   New cases/1000 people  \n",
       "0                    0.0  \n",
       "1                    0.0  \n",
       "2                    0.0  \n",
       "3                    0.0  \n",
       "4                    0.0  "
      ]
     },
     "execution_count": 195,
     "metadata": {},
     "output_type": "execute_result"
    }
   ],
   "source": [
    "print(df_social_mobility_org.shape)\n",
    "df_social_mobility_org.head()"
   ]
  },
  {
   "cell_type": "code",
   "execution_count": 244,
   "metadata": {},
   "outputs": [
    {
     "name": "stdout",
     "output_type": "stream",
     "text": [
      "(3261, 14)\n"
     ]
    },
    {
     "data": {
      "text/html": [
       "<div>\n",
       "<style scoped>\n",
       "    .dataframe tbody tr th:only-of-type {\n",
       "        vertical-align: middle;\n",
       "    }\n",
       "\n",
       "    .dataframe tbody tr th {\n",
       "        vertical-align: top;\n",
       "    }\n",
       "\n",
       "    .dataframe thead th {\n",
       "        text-align: right;\n",
       "    }\n",
       "</style>\n",
       "<table border=\"1\" class=\"dataframe\">\n",
       "  <thead>\n",
       "    <tr style=\"text-align: right;\">\n",
       "      <th></th>\n",
       "      <th>Admin2</th>\n",
       "      <th>Province_State</th>\n",
       "      <th>Lat</th>\n",
       "      <th>Long_</th>\n",
       "      <th>6/17/20</th>\n",
       "      <th>6/18/20</th>\n",
       "      <th>6/19/20</th>\n",
       "      <th>6/20/20</th>\n",
       "      <th>6/21/20</th>\n",
       "      <th>6/22/20</th>\n",
       "      <th>6/23/20</th>\n",
       "      <th>6/24/20</th>\n",
       "      <th>6/25/20</th>\n",
       "      <th>6/26/20</th>\n",
       "    </tr>\n",
       "  </thead>\n",
       "  <tbody>\n",
       "    <tr>\n",
       "      <th>0</th>\n",
       "      <td>NaN</td>\n",
       "      <td>American Samoa</td>\n",
       "      <td>-14.2710</td>\n",
       "      <td>-170.1320</td>\n",
       "      <td>0</td>\n",
       "      <td>0</td>\n",
       "      <td>0</td>\n",
       "      <td>0</td>\n",
       "      <td>0</td>\n",
       "      <td>0</td>\n",
       "      <td>0</td>\n",
       "      <td>0</td>\n",
       "      <td>0</td>\n",
       "      <td>0</td>\n",
       "    </tr>\n",
       "    <tr>\n",
       "      <th>1</th>\n",
       "      <td>NaN</td>\n",
       "      <td>Guam</td>\n",
       "      <td>13.4443</td>\n",
       "      <td>144.7937</td>\n",
       "      <td>188</td>\n",
       "      <td>192</td>\n",
       "      <td>200</td>\n",
       "      <td>222</td>\n",
       "      <td>222</td>\n",
       "      <td>222</td>\n",
       "      <td>225</td>\n",
       "      <td>226</td>\n",
       "      <td>231</td>\n",
       "      <td>247</td>\n",
       "    </tr>\n",
       "    <tr>\n",
       "      <th>2</th>\n",
       "      <td>NaN</td>\n",
       "      <td>Northern Mariana Islands</td>\n",
       "      <td>15.0979</td>\n",
       "      <td>145.6739</td>\n",
       "      <td>30</td>\n",
       "      <td>30</td>\n",
       "      <td>30</td>\n",
       "      <td>30</td>\n",
       "      <td>30</td>\n",
       "      <td>30</td>\n",
       "      <td>30</td>\n",
       "      <td>30</td>\n",
       "      <td>30</td>\n",
       "      <td>30</td>\n",
       "    </tr>\n",
       "    <tr>\n",
       "      <th>3</th>\n",
       "      <td>NaN</td>\n",
       "      <td>Puerto Rico</td>\n",
       "      <td>18.2208</td>\n",
       "      <td>-66.5901</td>\n",
       "      <td>6003</td>\n",
       "      <td>6111</td>\n",
       "      <td>6195</td>\n",
       "      <td>6463</td>\n",
       "      <td>6525</td>\n",
       "      <td>6564</td>\n",
       "      <td>6685</td>\n",
       "      <td>6820</td>\n",
       "      <td>6877</td>\n",
       "      <td>6922</td>\n",
       "    </tr>\n",
       "    <tr>\n",
       "      <th>4</th>\n",
       "      <td>NaN</td>\n",
       "      <td>Virgin Islands</td>\n",
       "      <td>18.3358</td>\n",
       "      <td>-64.8963</td>\n",
       "      <td>73</td>\n",
       "      <td>73</td>\n",
       "      <td>73</td>\n",
       "      <td>73</td>\n",
       "      <td>76</td>\n",
       "      <td>76</td>\n",
       "      <td>76</td>\n",
       "      <td>76</td>\n",
       "      <td>80</td>\n",
       "      <td>81</td>\n",
       "    </tr>\n",
       "  </tbody>\n",
       "</table>\n",
       "</div>"
      ],
      "text/plain": [
       "  Admin2            Province_State      Lat     Long_  6/17/20  6/18/20  \\\n",
       "0    NaN            American Samoa -14.2710 -170.1320        0        0   \n",
       "1    NaN                      Guam  13.4443  144.7937      188      192   \n",
       "2    NaN  Northern Mariana Islands  15.0979  145.6739       30       30   \n",
       "3    NaN               Puerto Rico  18.2208  -66.5901     6003     6111   \n",
       "4    NaN            Virgin Islands  18.3358  -64.8963       73       73   \n",
       "\n",
       "   6/19/20  6/20/20  6/21/20  6/22/20  6/23/20  6/24/20  6/25/20  6/26/20  \n",
       "0        0        0        0        0        0        0        0        0  \n",
       "1      200      222      222      222      225      226      231      247  \n",
       "2       30       30       30       30       30       30       30       30  \n",
       "3     6195     6463     6525     6564     6685     6820     6877     6922  \n",
       "4       73       73       76       76       76       76       80       81  "
      ]
     },
     "execution_count": 244,
     "metadata": {},
     "output_type": "execute_result"
    }
   ],
   "source": [
    "print(df_COVID19_org.shape)\n",
    "df_COVID19_org.head()"
   ]
  },
  {
   "cell_type": "code",
   "execution_count": 200,
   "metadata": {},
   "outputs": [
    {
     "name": "stdout",
     "output_type": "stream",
     "text": [
      "(51, 2)\n"
     ]
    },
    {
     "data": {
      "text/html": [
       "<div>\n",
       "<style scoped>\n",
       "    .dataframe tbody tr th:only-of-type {\n",
       "        vertical-align: middle;\n",
       "    }\n",
       "\n",
       "    .dataframe tbody tr th {\n",
       "        vertical-align: top;\n",
       "    }\n",
       "\n",
       "    .dataframe thead th {\n",
       "        text-align: right;\n",
       "    }\n",
       "</style>\n",
       "<table border=\"1\" class=\"dataframe\">\n",
       "  <thead>\n",
       "    <tr style=\"text-align: right;\">\n",
       "      <th></th>\n",
       "      <th>state_name</th>\n",
       "      <th>fips</th>\n",
       "    </tr>\n",
       "  </thead>\n",
       "  <tbody>\n",
       "    <tr>\n",
       "      <th>0</th>\n",
       "      <td>Alabama</td>\n",
       "      <td>1</td>\n",
       "    </tr>\n",
       "    <tr>\n",
       "      <th>1</th>\n",
       "      <td>Alaska</td>\n",
       "      <td>2</td>\n",
       "    </tr>\n",
       "    <tr>\n",
       "      <th>2</th>\n",
       "      <td>Arizona</td>\n",
       "      <td>4</td>\n",
       "    </tr>\n",
       "    <tr>\n",
       "      <th>3</th>\n",
       "      <td>Arkansas</td>\n",
       "      <td>5</td>\n",
       "    </tr>\n",
       "    <tr>\n",
       "      <th>4</th>\n",
       "      <td>California</td>\n",
       "      <td>6</td>\n",
       "    </tr>\n",
       "  </tbody>\n",
       "</table>\n",
       "</div>"
      ],
      "text/plain": [
       "   state_name  fips\n",
       "0     Alabama     1\n",
       "1      Alaska     2\n",
       "2     Arizona     4\n",
       "3    Arkansas     5\n",
       "4  California     6"
      ]
     },
     "execution_count": 200,
     "metadata": {},
     "output_type": "execute_result"
    }
   ],
   "source": [
    "print(df_state_fips.shape)\n",
    "df_state_fips.head()"
   ]
  },
  {
   "cell_type": "code",
   "execution_count": 197,
   "metadata": {},
   "outputs": [
    {
     "name": "stdout",
     "output_type": "stream",
     "text": [
      "COUNTY_NAME              28\n",
      "STATE_NAME               28\n",
      "NUM_LICENSED_BEDS       150\n",
      "NUM_STAFFED_BEDS        238\n",
      "AVG_VENTILATOR_USAGE     71\n",
      "dtype: int64\n"
     ]
    }
   ],
   "source": [
    "print(df_hospital_org.isnull().sum())\n",
    "df_hospital = df_hospital_org.dropna()"
   ]
  },
  {
   "cell_type": "code",
   "execution_count": 198,
   "metadata": {},
   "outputs": [
    {
     "name": "stdout",
     "output_type": "stream",
     "text": [
      "CTNAME                     0\n",
      "STFIPS                     0\n",
      "Social distancing index    0\n",
      "date                       0\n",
      "% people older than 60     0\n",
      "Population density         0\n",
      "COVID death rate           0\n",
      "New cases/1000 people      0\n",
      "dtype: int64\n"
     ]
    }
   ],
   "source": [
    "print(df_social_mobility_org.isnull().sum())\n",
    "df_social_mobility = df_social_mobility_org.dropna()"
   ]
  },
  {
   "cell_type": "code",
   "execution_count": 199,
   "metadata": {},
   "outputs": [
    {
     "name": "stdout",
     "output_type": "stream",
     "text": [
      "Admin2            7\n",
      "Province_State    0\n",
      "Lat               0\n",
      "Long_             0\n",
      "5/24/20           0\n",
      "5/25/20           0\n",
      "5/26/20           0\n",
      "dtype: int64\n"
     ]
    }
   ],
   "source": [
    "print(df_COVID19_org.isnull().sum())\n",
    "df_COVID19 = df_COVID19_org.dropna()"
   ]
  },
  {
   "cell_type": "code",
   "execution_count": 205,
   "metadata": {},
   "outputs": [
    {
     "name": "stdout",
     "output_type": "stream",
     "text": [
      "COUNTY_NAME              object\n",
      "STATE_NAME               object\n",
      "NUM_LICENSED_BEDS       float64\n",
      "NUM_STAFFED_BEDS        float64\n",
      "AVG_VENTILATOR_USAGE    float64\n",
      "COUNTY                   object\n",
      "dtype: object\n",
      "       NUM_LICENSED_BEDS  NUM_STAFFED_BEDS  AVG_VENTILATOR_USAGE\n",
      "count        6356.000000       6356.000000           6356.000000\n",
      "mean          150.487256        128.924638              3.650409\n",
      "std           183.131072        160.582287              5.517830\n",
      "min             1.000000          1.000000              0.000000\n",
      "25%            26.000000         25.000000              0.000000\n",
      "50%            79.000000         66.000000              2.000000\n",
      "75%           200.000000        168.000000              4.000000\n",
      "max          2059.000000       2753.000000             61.000000\n",
      "2491\n"
     ]
    },
    {
     "name": "stderr",
     "output_type": "stream",
     "text": [
      "/anaconda3/lib/python3.7/site-packages/ipykernel_launcher.py:4: SettingWithCopyWarning: \n",
      "A value is trying to be set on a copy of a slice from a DataFrame.\n",
      "Try using .loc[row_indexer,col_indexer] = value instead\n",
      "\n",
      "See the caveats in the documentation: http://pandas.pydata.org/pandas-docs/stable/indexing.html#indexing-view-versus-copy\n",
      "  after removing the cwd from sys.path.\n"
     ]
    },
    {
     "data": {
      "text/html": [
       "<div>\n",
       "<style scoped>\n",
       "    .dataframe tbody tr th:only-of-type {\n",
       "        vertical-align: middle;\n",
       "    }\n",
       "\n",
       "    .dataframe tbody tr th {\n",
       "        vertical-align: top;\n",
       "    }\n",
       "\n",
       "    .dataframe thead th {\n",
       "        text-align: right;\n",
       "    }\n",
       "</style>\n",
       "<table border=\"1\" class=\"dataframe\">\n",
       "  <thead>\n",
       "    <tr style=\"text-align: right;\">\n",
       "      <th></th>\n",
       "      <th>COUNTY</th>\n",
       "      <th>NUM_LICENSED_BEDS</th>\n",
       "      <th>NUM_STAFFED_BEDS</th>\n",
       "      <th>AVG_VENTILATOR_USAGE</th>\n",
       "    </tr>\n",
       "  </thead>\n",
       "  <tbody>\n",
       "    <tr>\n",
       "      <th>0</th>\n",
       "      <td>Abbeville,South Carolina</td>\n",
       "      <td>25.0</td>\n",
       "      <td>25.0</td>\n",
       "      <td>2.0</td>\n",
       "    </tr>\n",
       "    <tr>\n",
       "      <th>1</th>\n",
       "      <td>Acadia,Louisiana</td>\n",
       "      <td>170.0</td>\n",
       "      <td>144.0</td>\n",
       "      <td>3.0</td>\n",
       "    </tr>\n",
       "    <tr>\n",
       "      <th>2</th>\n",
       "      <td>Accomack,Virginia</td>\n",
       "      <td>52.0</td>\n",
       "      <td>46.0</td>\n",
       "      <td>3.0</td>\n",
       "    </tr>\n",
       "    <tr>\n",
       "      <th>3</th>\n",
       "      <td>Ada,Idaho</td>\n",
       "      <td>1311.0</td>\n",
       "      <td>1240.0</td>\n",
       "      <td>24.0</td>\n",
       "    </tr>\n",
       "    <tr>\n",
       "      <th>4</th>\n",
       "      <td>Adair,Iowa</td>\n",
       "      <td>25.0</td>\n",
       "      <td>25.0</td>\n",
       "      <td>0.0</td>\n",
       "    </tr>\n",
       "  </tbody>\n",
       "</table>\n",
       "</div>"
      ],
      "text/plain": [
       "                     COUNTY  NUM_LICENSED_BEDS  NUM_STAFFED_BEDS  \\\n",
       "0  Abbeville,South Carolina               25.0              25.0   \n",
       "1          Acadia,Louisiana              170.0             144.0   \n",
       "2         Accomack,Virginia               52.0              46.0   \n",
       "3                 Ada,Idaho             1311.0            1240.0   \n",
       "4                Adair,Iowa               25.0              25.0   \n",
       "\n",
       "   AVG_VENTILATOR_USAGE  \n",
       "0                   2.0  \n",
       "1                   3.0  \n",
       "2                   3.0  \n",
       "3                  24.0  \n",
       "4                   0.0  "
      ]
     },
     "execution_count": 205,
     "metadata": {},
     "output_type": "execute_result"
    }
   ],
   "source": [
    "print(df_hospital.dtypes)\n",
    "print(df_hospital.describe())\n",
    "\n",
    "df_hospital['COUNTY'] = df_hospital['COUNTY_NAME'] + str(',') + df_hospital[\"STATE_NAME\"]\n",
    "df_hospital_group = df_hospital.groupby(by = 'COUNTY').agg('sum').reset_index()\n",
    "\n",
    "df_hospital_group.drop(df_hospital_group.loc[(df_hospital_group['NUM_STAFFED_BEDS']/ df_hospital_group['NUM_LICENSED_BEDS'] <= 0.1) \n",
    "                                             & (df_hospital_group['NUM_STAFFED_BEDS'] <= 10)].index, inplace = True)\n",
    "print(len(df_hospital_group))\n",
    "df_hospital_group.head()"
   ]
  },
  {
   "cell_type": "code",
   "execution_count": 240,
   "metadata": {},
   "outputs": [
    {
     "name": "stdout",
     "output_type": "stream",
     "text": [
      "CTNAME                      object\n",
      "STFIPS                       int64\n",
      "Social distancing index      int64\n",
      "date                        object\n",
      "% people older than 60       int64\n",
      "Population density           int64\n",
      "COVID death rate           float64\n",
      "New cases/1000 people      float64\n",
      "state_name                  object\n",
      "fips                         int64\n",
      "COUNTY                      object\n",
      "dtype: object\n",
      "            STFIPS  Social distancing index  % people older than 60  \\\n",
      "count  3142.000000              3142.000000             3142.000000   \n",
      "mean     30.280076                26.501910               25.272120   \n",
      "std      15.144339                 8.255963                5.646104   \n",
      "min       1.000000                 0.000000                6.000000   \n",
      "25%      18.000000                21.000000               22.000000   \n",
      "50%      29.000000                25.000000               25.000000   \n",
      "75%      45.000000                31.000000               28.000000   \n",
      "max      56.000000                82.000000               65.000000   \n",
      "\n",
      "       Population density  COVID death rate  New cases/1000 people  \\\n",
      "count         3142.000000       3142.000000            3142.000000   \n",
      "mean           224.436665          1.689978               0.062344   \n",
      "std           1270.466648          0.904524               0.141120   \n",
      "min              0.000000          0.500000               0.000000   \n",
      "25%             16.000000          1.000000               0.000000   \n",
      "50%             43.000000          1.490000               0.024500   \n",
      "75%            109.000000          2.140000               0.072375   \n",
      "max          48341.000000          4.630000               3.742100   \n",
      "\n",
      "              fips  \n",
      "count  3142.000000  \n",
      "mean     30.280076  \n",
      "std      15.144339  \n",
      "min       1.000000  \n",
      "25%      18.000000  \n",
      "50%      29.000000  \n",
      "75%      45.000000  \n",
      "max      56.000000  \n"
     ]
    }
   ],
   "source": [
    "df_social_mobility['CTNAME'] = df_social_mobility['CTNAME'].apply(lambda x: x.replace(str(' County'), ''))\n",
    "df_social_mobility_merge = pd.merge(df_social_mobility, df_state_fips, left_on = 'STFIPS', right_on = 'fips')\n",
    "df_social_mobility_merge['COUNTY'] = df_social_mobility_merge['CTNAME'] + str(',') + df_social_mobility_merge['state_name']\n",
    "df_social_mobility_group = df_social_mobility_merge.groupby(by = 'date')\n",
    "#print(df_social_mobility_group.size())\n",
    "df_social_mobility_current = df_social_mobility_group.get_group('06/22/2020')\n",
    "\n",
    "print(df_social_mobility_current.dtypes)\n",
    "print(df_social_mobility_current.describe())\n",
    "#df_social_mobility_current['Population density'].plot.hist()\n",
    "\n",
    "#df_social_mobility_current.loc[df_social_mobility_current['Population density'] == 0]\n",
    "#len(df_social_mobility_group.get_group('01/01/2020')['COUNTY'].unique())"
   ]
  },
  {
   "cell_type": "code",
   "execution_count": 248,
   "metadata": {},
   "outputs": [
    {
     "name": "stdout",
     "output_type": "stream",
     "text": [
      "Admin2             object\n",
      "Province_State     object\n",
      "Lat               float64\n",
      "Long_             float64\n",
      "6/17/20             int64\n",
      "6/18/20             int64\n",
      "6/19/20             int64\n",
      "6/20/20             int64\n",
      "6/21/20             int64\n",
      "6/22/20             int64\n",
      "6/23/20             int64\n",
      "6/24/20             int64\n",
      "6/25/20             int64\n",
      "6/26/20             int64\n",
      "dtype: object\n",
      "               Lat        Long_        6/17/20        6/18/20        6/19/20  \\\n",
      "count  3261.000000  3261.000000    3261.000000    3261.000000    3261.000000   \n",
      "mean     37.165903   -89.160375     663.382398     671.910150     681.563631   \n",
      "std       8.662455    21.547038    4737.905230    4758.277327    4783.424230   \n",
      "min     -14.271000  -170.132000       0.000000       0.000000       0.000000   \n",
      "25%      34.237321   -98.066628      11.000000      11.000000      11.000000   \n",
      "50%      38.149014   -89.827411      52.000000      53.000000      54.000000   \n",
      "75%      41.683301   -82.793570     238.000000     243.000000     247.000000   \n",
      "max      69.314792   145.673900  210941.000000  211260.000000  211670.000000   \n",
      "\n",
      "             6/20/20        6/21/20        6/22/20        6/23/20  \\\n",
      "count    3261.000000    3261.000000    3261.000000    3261.000000   \n",
      "mean      691.605949     699.713585     709.077584     719.868445   \n",
      "std      4813.111989    4838.407587    4869.764093    4903.613065   \n",
      "min         0.000000       0.000000       0.000000       0.000000   \n",
      "25%        12.000000      12.000000      12.000000      13.000000   \n",
      "50%        55.000000      56.000000      58.000000      60.000000   \n",
      "75%       253.000000     258.000000     265.000000     269.000000   \n",
      "max    212061.000000  212446.000000  212741.000000  213056.000000   \n",
      "\n",
      "             6/24/20        6/25/20        6/26/20  \n",
      "count    3261.000000    3261.000000    3261.000000  \n",
      "mean      730.581417     742.808648     756.686293  \n",
      "std      4928.061564    4961.281638    4998.707179  \n",
      "min         0.000000       0.000000       0.000000  \n",
      "25%        13.000000      13.000000      13.000000  \n",
      "50%        62.000000      64.000000      66.000000  \n",
      "75%       277.000000     282.000000     288.000000  \n",
      "max    213348.000000  213699.000000  214070.000000  \n"
     ]
    }
   ],
   "source": [
    "print(df_COVID19_org.dtypes)\n",
    "print(df_COVID19_org.describe())\n",
    "\n"
   ]
  },
  {
   "cell_type": "code",
   "execution_count": 95,
   "metadata": {},
   "outputs": [
    {
     "name": "stdout",
     "output_type": "stream",
     "text": [
      "1556\n",
      "1877\n",
      "1901\n"
     ]
    }
   ],
   "source": [
    "print(len(df_hospital['COUNTY_NAME'].unique()))\n",
    "print(len(df_social_mobility['CTNAME'].unique()))\n",
    "print(len(df_COVID19['Admin2'].unique()))"
   ]
  },
  {
   "cell_type": "code",
   "execution_count": 58,
   "metadata": {},
   "outputs": [
    {
     "name": "stdout",
     "output_type": "stream",
     "text": [
      "1414\n",
      "nan\n",
      "['Sweetwater' 'Uinta' 'Washakie' 'Weston' nan 'Aguadilla' 'Aibonito'\n",
      " 'Arecibo' 'Bayamon' 'Caguas']\n"
     ]
    }
   ],
   "source": [
    "county_list = df_hospital[\"COUNTY_NAME\"].unique()\n",
    "np.any([type(i) == float for i in county_list])\n",
    "check = [type(i) == float for i in county_list]\n",
    "for i in range(len(check)):\n",
    "    if check[i] == True:\n",
    "        print(i)\n",
    "        print(county_list[i])\n",
    "print(county_list[1410:1420])\n",
    "#len(county_list)"
   ]
  },
  {
   "cell_type": "code",
   "execution_count": 14,
   "metadata": {},
   "outputs": [],
   "source": [
    "df_social_mobility = pd.read_csv('/Users/jessie/Desktop/summer_project/social_mobility_data(up_to_date)/County.csv')"
   ]
  },
  {
   "cell_type": "code",
   "execution_count": 15,
   "metadata": {},
   "outputs": [
    {
     "data": {
      "text/html": [
       "<div>\n",
       "<style scoped>\n",
       "    .dataframe tbody tr th:only-of-type {\n",
       "        vertical-align: middle;\n",
       "    }\n",
       "\n",
       "    .dataframe tbody tr th {\n",
       "        vertical-align: top;\n",
       "    }\n",
       "\n",
       "    .dataframe thead th {\n",
       "        text-align: right;\n",
       "    }\n",
       "</style>\n",
       "<table border=\"1\" class=\"dataframe\">\n",
       "  <thead>\n",
       "    <tr style=\"text-align: right;\">\n",
       "      <th></th>\n",
       "      <th>CTFIPS</th>\n",
       "      <th>CTNAME</th>\n",
       "      <th>STFIPS</th>\n",
       "      <th>Social distancing index</th>\n",
       "      <th>% staying home</th>\n",
       "      <th>Trips/person</th>\n",
       "      <th>% out-of-county trips</th>\n",
       "      <th>% out-of-state trips</th>\n",
       "      <th>Miles/person</th>\n",
       "      <th>Work trips/person</th>\n",
       "      <th>...</th>\n",
       "      <th>#days: decreasing COVID cases rank</th>\n",
       "      <th>#days: decreasing ILI cases rank</th>\n",
       "      <th>Testing capacity rank</th>\n",
       "      <th>% ICU utilization rank</th>\n",
       "      <th>% hospital bed utilization rank</th>\n",
       "      <th>Ventilator shortage rank</th>\n",
       "      <th>Unemployment rate rank</th>\n",
       "      <th>% working from home rank</th>\n",
       "      <th>% change in consumption rank</th>\n",
       "      <th>COVID death rate rank</th>\n",
       "    </tr>\n",
       "  </thead>\n",
       "  <tbody>\n",
       "    <tr>\n",
       "      <th>0</th>\n",
       "      <td>1001</td>\n",
       "      <td>Autauga County</td>\n",
       "      <td>1</td>\n",
       "      <td>54</td>\n",
       "      <td>27</td>\n",
       "      <td>2.25</td>\n",
       "      <td>38.8</td>\n",
       "      <td>1.2</td>\n",
       "      <td>24.7</td>\n",
       "      <td>0.25</td>\n",
       "      <td>...</td>\n",
       "      <td>50</td>\n",
       "      <td>50</td>\n",
       "      <td>50</td>\n",
       "      <td>50</td>\n",
       "      <td>50</td>\n",
       "      <td>50</td>\n",
       "      <td>10</td>\n",
       "      <td>94</td>\n",
       "      <td>65</td>\n",
       "      <td>50</td>\n",
       "    </tr>\n",
       "    <tr>\n",
       "      <th>1</th>\n",
       "      <td>1001</td>\n",
       "      <td>Autauga County</td>\n",
       "      <td>1</td>\n",
       "      <td>25</td>\n",
       "      <td>18</td>\n",
       "      <td>2.83</td>\n",
       "      <td>43.5</td>\n",
       "      <td>0.9</td>\n",
       "      <td>37.6</td>\n",
       "      <td>0.62</td>\n",
       "      <td>...</td>\n",
       "      <td>50</td>\n",
       "      <td>50</td>\n",
       "      <td>50</td>\n",
       "      <td>50</td>\n",
       "      <td>50</td>\n",
       "      <td>50</td>\n",
       "      <td>10</td>\n",
       "      <td>94</td>\n",
       "      <td>96</td>\n",
       "      <td>50</td>\n",
       "    </tr>\n",
       "    <tr>\n",
       "      <th>2</th>\n",
       "      <td>1001</td>\n",
       "      <td>Autauga County</td>\n",
       "      <td>1</td>\n",
       "      <td>15</td>\n",
       "      <td>15</td>\n",
       "      <td>3.18</td>\n",
       "      <td>42.2</td>\n",
       "      <td>1.0</td>\n",
       "      <td>40.3</td>\n",
       "      <td>0.62</td>\n",
       "      <td>...</td>\n",
       "      <td>50</td>\n",
       "      <td>50</td>\n",
       "      <td>50</td>\n",
       "      <td>50</td>\n",
       "      <td>50</td>\n",
       "      <td>50</td>\n",
       "      <td>10</td>\n",
       "      <td>94</td>\n",
       "      <td>81</td>\n",
       "      <td>50</td>\n",
       "    </tr>\n",
       "    <tr>\n",
       "      <th>3</th>\n",
       "      <td>1001</td>\n",
       "      <td>Autauga County</td>\n",
       "      <td>1</td>\n",
       "      <td>33</td>\n",
       "      <td>20</td>\n",
       "      <td>2.85</td>\n",
       "      <td>43.9</td>\n",
       "      <td>1.2</td>\n",
       "      <td>29.5</td>\n",
       "      <td>0.33</td>\n",
       "      <td>...</td>\n",
       "      <td>50</td>\n",
       "      <td>50</td>\n",
       "      <td>50</td>\n",
       "      <td>50</td>\n",
       "      <td>50</td>\n",
       "      <td>50</td>\n",
       "      <td>10</td>\n",
       "      <td>94</td>\n",
       "      <td>55</td>\n",
       "      <td>50</td>\n",
       "    </tr>\n",
       "    <tr>\n",
       "      <th>4</th>\n",
       "      <td>1001</td>\n",
       "      <td>Autauga County</td>\n",
       "      <td>1</td>\n",
       "      <td>40</td>\n",
       "      <td>22</td>\n",
       "      <td>2.56</td>\n",
       "      <td>42.8</td>\n",
       "      <td>1.2</td>\n",
       "      <td>30.9</td>\n",
       "      <td>0.23</td>\n",
       "      <td>...</td>\n",
       "      <td>50</td>\n",
       "      <td>50</td>\n",
       "      <td>50</td>\n",
       "      <td>50</td>\n",
       "      <td>50</td>\n",
       "      <td>50</td>\n",
       "      <td>10</td>\n",
       "      <td>94</td>\n",
       "      <td>20</td>\n",
       "      <td>50</td>\n",
       "    </tr>\n",
       "  </tbody>\n",
       "</table>\n",
       "<p>5 rows × 60 columns</p>\n",
       "</div>"
      ],
      "text/plain": [
       "   CTFIPS          CTNAME  STFIPS  Social distancing index  % staying home  \\\n",
       "0    1001  Autauga County       1                       54              27   \n",
       "1    1001  Autauga County       1                       25              18   \n",
       "2    1001  Autauga County       1                       15              15   \n",
       "3    1001  Autauga County       1                       33              20   \n",
       "4    1001  Autauga County       1                       40              22   \n",
       "\n",
       "   Trips/person  % out-of-county trips  % out-of-state trips  Miles/person  \\\n",
       "0          2.25                   38.8                   1.2          24.7   \n",
       "1          2.83                   43.5                   0.9          37.6   \n",
       "2          3.18                   42.2                   1.0          40.3   \n",
       "3          2.85                   43.9                   1.2          29.5   \n",
       "4          2.56                   42.8                   1.2          30.9   \n",
       "\n",
       "   Work trips/person          ...            \\\n",
       "0               0.25          ...             \n",
       "1               0.62          ...             \n",
       "2               0.62          ...             \n",
       "3               0.33          ...             \n",
       "4               0.23          ...             \n",
       "\n",
       "   #days: decreasing COVID cases rank  #days: decreasing ILI cases rank  \\\n",
       "0                                  50                                50   \n",
       "1                                  50                                50   \n",
       "2                                  50                                50   \n",
       "3                                  50                                50   \n",
       "4                                  50                                50   \n",
       "\n",
       "   Testing capacity rank  % ICU utilization rank  \\\n",
       "0                     50                      50   \n",
       "1                     50                      50   \n",
       "2                     50                      50   \n",
       "3                     50                      50   \n",
       "4                     50                      50   \n",
       "\n",
       "  % hospital bed utilization rank  Ventilator shortage rank  \\\n",
       "0                              50                        50   \n",
       "1                              50                        50   \n",
       "2                              50                        50   \n",
       "3                              50                        50   \n",
       "4                              50                        50   \n",
       "\n",
       "   Unemployment rate rank  % working from home rank  \\\n",
       "0                      10                        94   \n",
       "1                      10                        94   \n",
       "2                      10                        94   \n",
       "3                      10                        94   \n",
       "4                      10                        94   \n",
       "\n",
       "   % change in consumption rank  COVID death rate rank  \n",
       "0                            65                     50  \n",
       "1                            96                     50  \n",
       "2                            81                     50  \n",
       "3                            55                     50  \n",
       "4                            20                     50  \n",
       "\n",
       "[5 rows x 60 columns]"
      ]
     },
     "execution_count": 15,
     "metadata": {},
     "output_type": "execute_result"
    }
   ],
   "source": [
    "df_social_mobility.head()"
   ]
  },
  {
   "cell_type": "code",
   "execution_count": 22,
   "metadata": {},
   "outputs": [
    {
     "data": {
      "text/plain": [
       "CTFIPS                                                  1001\n",
       "CTNAME                                        Autauga County\n",
       "STFIPS                                                     1\n",
       "Social distancing index                                   54\n",
       "% staying home                                            27\n",
       "Trips/person                                            2.25\n",
       "% out-of-county trips                                   38.8\n",
       "% out-of-state trips                                     1.2\n",
       "Miles/person                                            24.7\n",
       "Work trips/person                                       0.25\n",
       "Non-work trips/person                                      2\n",
       "New COVID cases                                            0\n",
       "Population                                             55601\n",
       "% change in consumption                                -22.5\n",
       "date                                              01/01/2020\n",
       "Transit mode share                                      0.11\n",
       "% people older than 60                                    19\n",
       "Median income                                          58786\n",
       "% African Americans                                       19\n",
       "% Hispanic Americans                                     2.8\n",
       "% Male                                                 48.68\n",
       "Population density                                        91\n",
       "Employment density                                        19\n",
       "# hot spots/1000 people                                  101\n",
       "Hospital beds/1000 people                               3.79\n",
       "ICUs/1000 people                                        0.33\n",
       "# contact tracing workers/1000 people                  0.025\n",
       "# contact tracing workers/1000 people rank                39\n",
       "% people older than 60 rank                               12\n",
       "COVID exposure/1000 people                                 0\n",
       "#days: decreasing ILI cases                                0\n",
       "Unemployment claims/1000 people                          0.9\n",
       "Unemployment rate                                        2.7\n",
       "% working from home                                      3.2\n",
       "Cumulative inflation rate                                0.3\n",
       "COVID death rate                                           0\n",
       "New cases/1000 people                                      0\n",
       "Active cases/1000 people                                   0\n",
       "#days: decreasing COVID cases                              0\n",
       "% hospital bed utilization                              47.1\n",
       "Testing capacity                                           0\n",
       "Tests done/1000 people                                     0\n",
       "% ICU utilization                                          0\n",
       "Ventilator shortage                                        0\n",
       "Imported COVID cases                                       0\n",
       "Social distancing index rank                              24\n",
       "% out-of-county trips rank                                70\n",
       "% out-of-state trips rank                                 26\n",
       "New cases/1000 people rank                                50\n",
       "Imported COVID cases rank                                 50\n",
       "#days: decreasing COVID cases rank                        50\n",
       "#days: decreasing ILI cases rank                          50\n",
       "Testing capacity rank                                     50\n",
       "% ICU utilization rank                                    50\n",
       "% hospital bed utilization rank                           50\n",
       "Ventilator shortage rank                                  50\n",
       "Unemployment rate rank                                    10\n",
       "% working from home rank                                  94\n",
       "% change in consumption rank                              65\n",
       "COVID death rate rank                                     50\n",
       "Name: 0, dtype: object"
      ]
     },
     "execution_count": 22,
     "metadata": {},
     "output_type": "execute_result"
    }
   ],
   "source": [
    "df_social_mobility.iloc[0]"
   ]
  },
  {
   "cell_type": "code",
   "execution_count": 27,
   "metadata": {},
   "outputs": [
    {
     "data": {
      "text/plain": [
       "CTFIPS                                             0\n",
       "CTNAME                                             0\n",
       "STFIPS                                             0\n",
       "Social distancing index                            0\n",
       "% staying home                                     0\n",
       "Trips/person                                       0\n",
       "% out-of-county trips                              0\n",
       "% out-of-state trips                               0\n",
       "Miles/person                                       0\n",
       "Work trips/person                                  0\n",
       "Non-work trips/person                              0\n",
       "New COVID cases                                    0\n",
       "Population                                         0\n",
       "% change in consumption                            0\n",
       "date                                               0\n",
       "Transit mode share                                 0\n",
       "% people older than 60                             0\n",
       "Median income                                      0\n",
       "% African Americans                                0\n",
       "% Hispanic Americans                               0\n",
       "% Male                                             0\n",
       "Population density                                 0\n",
       "Employment density                                 0\n",
       "# hot spots/1000 people                            0\n",
       "Hospital beds/1000 people                          0\n",
       "ICUs/1000 people                                   0\n",
       "# contact tracing workers/1000 people         173372\n",
       "# contact tracing workers/1000 people rank    173372\n",
       "% people older than 60 rank                        0\n",
       "COVID exposure/1000 people                         0\n",
       "#days: decreasing ILI cases                        0\n",
       "Unemployment claims/1000 people                    0\n",
       "Unemployment rate                                  0\n",
       "% working from home                                0\n",
       "Cumulative inflation rate                          0\n",
       "COVID death rate                                   0\n",
       "New cases/1000 people                              0\n",
       "Active cases/1000 people                           0\n",
       "#days: decreasing COVID cases                      0\n",
       "% hospital bed utilization                         0\n",
       "Testing capacity                                   0\n",
       "Tests done/1000 people                             0\n",
       "% ICU utilization                                  0\n",
       "Ventilator shortage                                0\n",
       "Imported COVID cases                               0\n",
       "Social distancing index rank                       0\n",
       "% out-of-county trips rank                         0\n",
       "% out-of-state trips rank                          0\n",
       "New cases/1000 people rank                         0\n",
       "Imported COVID cases rank                          0\n",
       "#days: decreasing COVID cases rank                 0\n",
       "#days: decreasing ILI cases rank                   0\n",
       "Testing capacity rank                              0\n",
       "% ICU utilization rank                             0\n",
       "% hospital bed utilization rank                    0\n",
       "Ventilator shortage rank                           0\n",
       "Unemployment rate rank                             0\n",
       "% working from home rank                           0\n",
       "% change in consumption rank                       0\n",
       "COVID death rate rank                              0\n",
       "dtype: int64"
      ]
     },
     "execution_count": 27,
     "metadata": {},
     "output_type": "execute_result"
    }
   ],
   "source": [
    "df_social_mobility.isnull().sum()"
   ]
  },
  {
   "cell_type": "code",
   "execution_count": 37,
   "metadata": {},
   "outputs": [
    {
     "name": "stdout",
     "output_type": "stream",
     "text": [
      "['Autauga County' 'Baldwin County' 'Barbour County' ... 'Uinta County'\n",
      " 'Washakie County' 'Weston County']\n"
     ]
    }
   ],
   "source": [
    "len(df_social_mobility['CTNAME'].unique())\n",
    "type(df_social_mobility['CTNAME'].unique())\n",
    "print(df_social_mobility['CTNAME'].unique())"
   ]
  },
  {
   "cell_type": "code",
   "execution_count": 36,
   "metadata": {},
   "outputs": [
    {
     "ename": "TypeError",
     "evalue": "'<' not supported between instances of 'builtin_function_or_method' and 'bytes'",
     "output_type": "error",
     "traceback": [
      "\u001b[0;31m---------------------------------------------------------------------------\u001b[0m",
      "\u001b[0;31mTypeError\u001b[0m                                 Traceback (most recent call last)",
      "\u001b[0;32m<ipython-input-36-af4ec50e11b5>\u001b[0m in \u001b[0;36m<module>\u001b[0;34m\u001b[0m\n\u001b[0;32m----> 1\u001b[0;31m \u001b[0mnp\u001b[0m\u001b[0;34m.\u001b[0m\u001b[0mintersect1d\u001b[0m\u001b[0;34m(\u001b[0m\u001b[0mdf_hospital\u001b[0m\u001b[0;34m[\u001b[0m\u001b[0;34m'COUNTY_NAME'\u001b[0m\u001b[0;34m]\u001b[0m\u001b[0;34m.\u001b[0m\u001b[0munique\u001b[0m\u001b[0;34m(\u001b[0m\u001b[0;34m)\u001b[0m\u001b[0;34m.\u001b[0m\u001b[0mtostring\u001b[0m\u001b[0;34m(\u001b[0m\u001b[0;34m)\u001b[0m\u001b[0;34m,\u001b[0m \u001b[0mdf_social_mobility\u001b[0m\u001b[0;34m[\u001b[0m\u001b[0;34m'CTNAME'\u001b[0m\u001b[0;34m]\u001b[0m\u001b[0;34m.\u001b[0m\u001b[0munique\u001b[0m\u001b[0;34m(\u001b[0m\u001b[0;34m)\u001b[0m\u001b[0;34m.\u001b[0m\u001b[0mtostring\u001b[0m\u001b[0;34m)\u001b[0m\u001b[0;34m\u001b[0m\u001b[0;34m\u001b[0m\u001b[0m\n\u001b[0m",
      "\u001b[0;32m<__array_function__ internals>\u001b[0m in \u001b[0;36mintersect1d\u001b[0;34m(*args, **kwargs)\u001b[0m\n",
      "\u001b[0;32m/anaconda3/lib/python3.7/site-packages/numpy/lib/arraysetops.py\u001b[0m in \u001b[0;36mintersect1d\u001b[0;34m(ar1, ar2, assume_unique, return_indices)\u001b[0m\n\u001b[1;32m    413\u001b[0m         \u001b[0maux\u001b[0m \u001b[0;34m=\u001b[0m \u001b[0maux\u001b[0m\u001b[0;34m[\u001b[0m\u001b[0maux_sort_indices\u001b[0m\u001b[0;34m]\u001b[0m\u001b[0;34m\u001b[0m\u001b[0;34m\u001b[0m\u001b[0m\n\u001b[1;32m    414\u001b[0m     \u001b[0;32melse\u001b[0m\u001b[0;34m:\u001b[0m\u001b[0;34m\u001b[0m\u001b[0;34m\u001b[0m\u001b[0m\n\u001b[0;32m--> 415\u001b[0;31m         \u001b[0maux\u001b[0m\u001b[0;34m.\u001b[0m\u001b[0msort\u001b[0m\u001b[0;34m(\u001b[0m\u001b[0;34m)\u001b[0m\u001b[0;34m\u001b[0m\u001b[0;34m\u001b[0m\u001b[0m\n\u001b[0m\u001b[1;32m    416\u001b[0m \u001b[0;34m\u001b[0m\u001b[0m\n\u001b[1;32m    417\u001b[0m     \u001b[0mmask\u001b[0m \u001b[0;34m=\u001b[0m \u001b[0maux\u001b[0m\u001b[0;34m[\u001b[0m\u001b[0;36m1\u001b[0m\u001b[0;34m:\u001b[0m\u001b[0;34m]\u001b[0m \u001b[0;34m==\u001b[0m \u001b[0maux\u001b[0m\u001b[0;34m[\u001b[0m\u001b[0;34m:\u001b[0m\u001b[0;34m-\u001b[0m\u001b[0;36m1\u001b[0m\u001b[0;34m]\u001b[0m\u001b[0;34m\u001b[0m\u001b[0;34m\u001b[0m\u001b[0m\n",
      "\u001b[0;31mTypeError\u001b[0m: '<' not supported between instances of 'builtin_function_or_method' and 'bytes'"
     ]
    }
   ],
   "source": [
    "np.intersect1d(df_hospital['COUNTY_NAME'].unique(), df_social_mobility['CTNAME'].unique())"
   ]
  },
  {
   "cell_type": "code",
   "execution_count": 59,
   "metadata": {},
   "outputs": [
    {
     "data": {
      "text/plain": [
       "'/Users/jessie'"
      ]
     },
     "execution_count": 59,
     "metadata": {},
     "output_type": "execute_result"
    }
   ],
   "source": [
    "pwd"
   ]
  },
  {
   "cell_type": "code",
   "execution_count": 60,
   "metadata": {},
   "outputs": [
    {
     "name": "stdout",
     "output_type": "stream",
     "text": [
      "/Users/jessie/Desktop/summer_project\n"
     ]
    }
   ],
   "source": [
    "cd Desktop/summer_project/"
   ]
  },
  {
   "cell_type": "code",
   "execution_count": 62,
   "metadata": {},
   "outputs": [
    {
     "name": "stdout",
     "output_type": "stream",
     "text": [
      "/Users/jessie/Documents/GitHub\n"
     ]
    }
   ],
   "source": [
    "cd '/Users/jessie/Documents/GitHub/'"
   ]
  },
  {
   "cell_type": "code",
   "execution_count": 63,
   "metadata": {},
   "outputs": [
    {
     "name": "stdout",
     "output_type": "stream",
     "text": [
      "\u001b[34mCOVID-19\u001b[m\u001b[m/            \u001b[34mcse154_pa3_face_rec\u001b[m\u001b[m/ \u001b[34mflickr30k_entities\u001b[m\u001b[m/\r\n",
      "\u001b[34mcse154_pa2\u001b[m\u001b[m/          \u001b[34mcse154_rnn\u001b[m\u001b[m/\r\n"
     ]
    }
   ],
   "source": [
    "ls"
   ]
  },
  {
   "cell_type": "code",
   "execution_count": 64,
   "metadata": {},
   "outputs": [
    {
     "name": "stdout",
     "output_type": "stream",
     "text": [
      "/Users/jessie/Documents/GitHub/COVID-19\n"
     ]
    }
   ],
   "source": [
    "cd COVID-19"
   ]
  },
  {
   "cell_type": "code",
   "execution_count": 65,
   "metadata": {},
   "outputs": [
    {
     "name": "stdout",
     "output_type": "stream",
     "text": [
      "README.md                       \u001b[34mcsse_covid_19_data\u001b[m\u001b[m/\r\n",
      "\u001b[34marchived_data\u001b[m\u001b[m/                  \u001b[34mwho_covid_19_situation_reports\u001b[m\u001b[m/\r\n"
     ]
    }
   ],
   "source": [
    "ls"
   ]
  },
  {
   "cell_type": "code",
   "execution_count": 67,
   "metadata": {},
   "outputs": [
    {
     "name": "stdout",
     "output_type": "stream",
     "text": [
      "/Users/jessie/Documents/GitHub/COVID-19/csse_covid_19_data\n"
     ]
    }
   ],
   "source": [
    "cd csse_covid_19_data/"
   ]
  },
  {
   "cell_type": "code",
   "execution_count": 68,
   "metadata": {},
   "outputs": [
    {
     "name": "stdout",
     "output_type": "stream",
     "text": [
      "README.md                       \u001b[34mcsse_covid_19_daily_reports_us\u001b[m\u001b[m/\r\n",
      "UID_ISO_FIPS_LookUp_Table.csv   \u001b[34mcsse_covid_19_time_series\u001b[m\u001b[m/\r\n",
      "\u001b[34mcsse_covid_19_daily_reports\u001b[m\u001b[m/\r\n"
     ]
    }
   ],
   "source": [
    "ls"
   ]
  },
  {
   "cell_type": "code",
   "execution_count": 69,
   "metadata": {},
   "outputs": [
    {
     "name": "stdout",
     "output_type": "stream",
     "text": [
      "/Users/jessie/Documents/GitHub/COVID-19/csse_covid_19_data/csse_covid_19_time_series\n"
     ]
    }
   ],
   "source": [
    "cd  csse_covid_19_time_series"
   ]
  },
  {
   "cell_type": "code",
   "execution_count": 70,
   "metadata": {},
   "outputs": [
    {
     "name": "stdout",
     "output_type": "stream",
     "text": [
      "Errata.csv\r\n",
      "README.md\r\n",
      "time_series_covid19_confirmed_US.csv\r\n",
      "time_series_covid19_confirmed_global.csv\r\n",
      "time_series_covid19_deaths_US.csv\r\n",
      "time_series_covid19_deaths_global.csv\r\n",
      "time_series_covid19_recovered_global.csv\r\n"
     ]
    }
   ],
   "source": [
    "ls"
   ]
  },
  {
   "cell_type": "code",
   "execution_count": null,
   "metadata": {},
   "outputs": [],
   "source": []
  }
 ],
 "metadata": {
  "kernelspec": {
   "display_name": "Python 3",
   "language": "python",
   "name": "python3"
  },
  "language_info": {
   "codemirror_mode": {
    "name": "ipython",
    "version": 3
   },
   "file_extension": ".py",
   "mimetype": "text/x-python",
   "name": "python",
   "nbconvert_exporter": "python",
   "pygments_lexer": "ipython3",
   "version": "3.7.1"
  }
 },
 "nbformat": 4,
 "nbformat_minor": 2
}
